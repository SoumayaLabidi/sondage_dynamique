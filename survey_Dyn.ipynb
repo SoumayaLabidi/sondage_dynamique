{
 "cells": [
  {
   "cell_type": "code",
   "execution_count": null,
   "metadata": {},
   "outputs": [],
   "source": [
    "#sondage dynamique\n",
    "def createsondage():\n",
    "    global dict\n",
    "    dict= {} \n",
    "    list= []\n",
   
    "    q=int(input(\"Nombre de Questions:\"))\n",
    "    for i in range(0,q):\n",
    "        r=[]\n",
    "        ans=str(input(\"Ecrire une question:\"))\n",
    "        list.append(ans)\n",
    "        f=int(input(\"Nombre de reponses:\"))\n",
    "        for j in range(0,f):\n",
    "            rep=str(input(\"Ecrire les reponses:\"))\n",
    "            r.append(rep)\n",
    "            if list[i] in dict.keys():\n",
    "                dict[list[i]].append(r[j])\n",
    "            else:\n",
    "                dict[list[i]]= [] \n",
    "                dict[list[i]].append(r[j])\n",
    "                \n",
    "print(\"\\n\\n\\n Créer votre sondage\")\n",
    "createsondage()         \n",
    "\n",
    "#user interface\n",
    "def ssondage(dict):\n",
    "    \"\"\"\n",
    "    Cette fonction prend en parametre les questions d'un sondage\n",
    "    Apres on peut enregister les données saisies dans un fichier Csv\n",
    "    Les données enregistrées seront utlisées dans les statistics  \n",
    "    \"\"\"\n",
    "    global lrm\n",
    "    lrm=[]\n",
    "    global d\n",
    "    d = {'Question': 'Réponse'}\n",
    "    for i in dict:\n",
    "        print(i, dict[i])\n",
    "        ans=str(input(\"Ecrire votre réponse ici:\"))\n",
    "        d[i]=ans\n",
    "       \n",
    "        \n",
    "print(\"\\n\\n\\n Répondre au sondage\")\n",
    "ssondage(dict)\n",
    "print(\"\\n\\n\\nVoir vos réponses\",d)\n",
    "\n",
    "#stats: compter les itérations de chaque valeur (reponse d'un utilisateur)par question\n",
    "def anlyseSondage(d):\n",
    "    for key, val in d.items():\n",
    "        print(f'Question:{key}    Reponse:{val}')\n",
    "anlyseSondage(d) "
   ]
  },
  {
   "cell_type": "code",
   "execution_count": null,
   "metadata": {},
   "outputs": [],
   "source": []
  }
 ],
 "metadata": {
  "kernelspec": {
   "display_name": "Python 3",
   "language": "python",
   "name": "python3"
  },
  "language_info": {
   "codemirror_mode": {
    "name": "ipython",
    "version": 3
   },
   "file_extension": ".py",
   "mimetype": "text/x-python",
   "name": "python",
   "nbconvert_exporter": "python",
   "pygments_lexer": "ipython3",
   "version": "3.7.4"
  }
 },
 "nbformat": 4,
 "nbformat_minor": 2
}
