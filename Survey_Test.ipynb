def createsondage():
    global dict
    dict= {} 
    list= []
    r=[]
    q=int(input("Nombre de Questions:"))
    for i in range(0,q):
        ans=str(input("Ecrire une question:"))
        list.append(ans)
        f=int(input("Nombre de reponses:"))
        for j in range(0,f):
            rep=str(input("Ecrire les reponses:"))
            r.append(rep)
            if list[i] in dict.keys():
                dict[list[i]].append(r[j])
            else:
                dict[list[i]]= [] 
                dict[list[i]].append(r[j])
                
print("\n\n\n Créer votre sondage")
createsondage()         

def ssondage(dict):
    """
    Cette fonction prend en parametre les questions d'un sondage
    Apres on peut enregister les données saisies dans un fichier Csv
    Les données enregistrées seront utlisées dans les statistics  
    """
    global lrm
    lrm=[]
    global d
    d = {'Question': 'Réponse'}
    for i in dict:
        print(i, dict[i])
        ans=str(input("Ecrire votre réponse ici:"))
        d[i]=ans
       
        
print("\n\n\n Répondre au sondage")
ssondage(dict)
print("\n\n\nVoir vos réponses",d)
